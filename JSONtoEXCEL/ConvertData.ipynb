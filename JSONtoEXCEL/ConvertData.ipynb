{
 "cells": [
  {
   "cell_type": "code",
   "execution_count": 3,
   "metadata": {
    "collapsed": true
   },
   "outputs": [],
   "source": [
    "import tablib\n",
    "import json"
   ]
  },
  {
   "cell_type": "code",
   "execution_count": 4,
   "metadata": {
    "collapsed": true
   },
   "outputs": [],
   "source": [
    "tab_data = tablib.Dataset()\n",
    "data_str = open('content_list.json').read()\n",
    "data = json.loads(data_str)"
   ]
  },
  {
   "cell_type": "code",
   "execution_count": 7,
   "metadata": {},
   "outputs": [],
   "source": [
    "for i in range(len(data)):\n",
    "    if data[str(i)]['content'] == \"FOUND\":\n",
    "        tab_data.append([ data[str(i)]['company'], data[str(i)]['content'], data[str(i)]['operating status'],\n",
    "                    data[str(i)]['description'], data[str(i)]['funding status'], data[str(i)]['website'],\n",
    "                    data[str(i)]['last funding type'], data[str(i)]['company type'], data[str(i)]['categories']])\n",
    "    else:\n",
    "        tab_data.append([ data[str(i)]['company'], data[str(i)]['content'],'N/A','N/A','N/A','N/A','N/A','N/A','N/A'])\n",
    "    tab_data.headers = ['Company', 'Content', 'Operating Status', 'Description', 'Funding Status', 'Website', \n",
    "                        'Last Funding Type', 'Company Type', 'Categories' ]\n",
    "    \n",
    "csv_data = tab_data.export('csv')\n",
    "f = open(\"company.csv\", \"w\")\n",
    "f.write(csv_data)\n",
    "f.close()"
   ]
  },
  {
   "cell_type": "code",
   "execution_count": null,
   "metadata": {
    "collapsed": true
   },
   "outputs": [],
   "source": []
  }
 ],
 "metadata": {
  "kernelspec": {
   "display_name": "Python 3",
   "language": "python",
   "name": "python3"
  },
  "language_info": {
   "codemirror_mode": {
    "name": "ipython",
    "version": 3
   },
   "file_extension": ".py",
   "mimetype": "text/x-python",
   "name": "python",
   "nbconvert_exporter": "python",
   "pygments_lexer": "ipython3",
   "version": "3.6.1"
  }
 },
 "nbformat": 4,
 "nbformat_minor": 2
}
